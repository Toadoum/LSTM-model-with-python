{
  "nbformat": 4,
  "nbformat_minor": 0,
  "metadata": {
    "colab": {
      "name": "LSTM_model.ipynb",
      "provenance": []
    },
    "kernelspec": {
      "name": "python3",
      "display_name": "Python 3"
    }
  },
  "cells": [
    {
      "cell_type": "code",
      "metadata": {
        "id": "8GaQ1C2hmtoy",
        "colab_type": "code",
        "colab": {}
      },
      "source": [
        "\"\"\"\n",
        "Created on Tue Nov  5 14:01:57 2019\n",
        "\n",
        "@author: Sakayo_Toadoum\n",
        "\"\"\"\n",
        "\n",
        "import numpy as np                       \n",
        "import pandas as pd\n",
        "import seaborn as sns\n",
        "import matplotlib.pyplot as plt\n",
        "from sklearn import datasets\n",
        "from sklearn import tree\n",
        "plt.style.use('seaborn-notebook')\n"
      ],
      "execution_count": 0,
      "outputs": []
    },
    {
      "cell_type": "code",
      "metadata": {
        "id": "JMuSIL0hnJMU",
        "colab_type": "code",
        "colab": {
          "base_uri": "https://localhost:8080/",
          "height": 126
        },
        "outputId": "ef64839f-f234-4cfc-962e-3791adf793e0"
      },
      "source": [
        "from google.colab import drive\n",
        "drive.mount('/content/drive')"
      ],
      "execution_count": 2,
      "outputs": [
        {
          "output_type": "stream",
          "text": [
            "Go to this URL in a browser: https://accounts.google.com/o/oauth2/auth?client_id=947318989803-6bn6qk8qdgf4n4g3pfee6491hc0brc4i.apps.googleusercontent.com&redirect_uri=urn%3aietf%3awg%3aoauth%3a2.0%3aoob&response_type=code&scope=email%20https%3a%2f%2fwww.googleapis.com%2fauth%2fdocs.test%20https%3a%2f%2fwww.googleapis.com%2fauth%2fdrive%20https%3a%2f%2fwww.googleapis.com%2fauth%2fdrive.photos.readonly%20https%3a%2f%2fwww.googleapis.com%2fauth%2fpeopleapi.readonly\n",
            "\n",
            "Enter your authorization code:\n",
            "··········\n",
            "Mounted at /content/drive\n"
          ],
          "name": "stdout"
        }
      ]
    },
    {
      "cell_type": "code",
      "metadata": {
        "id": "NcTyjehEnJmi",
        "colab_type": "code",
        "colab": {
          "base_uri": "https://localhost:8080/",
          "height": 35
        },
        "outputId": "54de974e-1721-4fe7-e2a8-ac543729a2e2"
      },
      "source": [
        "cd '/content/drive/My Drive/Colab Notebooks'"
      ],
      "execution_count": 3,
      "outputs": [
        {
          "output_type": "stream",
          "text": [
            "/content/drive/My Drive/Colab Notebooks\n"
          ],
          "name": "stdout"
        }
      ]
    },
    {
      "cell_type": "code",
      "metadata": {
        "id": "-ikvs10bnJpY",
        "colab_type": "code",
        "colab": {
          "base_uri": "https://localhost:8080/",
          "height": 88
        },
        "outputId": "7ab14972-ce4a-47c5-81d4-30d95e6f6c2f"
      },
      "source": [
        "ls"
      ],
      "execution_count": 4,
      "outputs": [
        {
          "output_type": "stream",
          "text": [
            " BirthData2.xlsx                         LSTM_model.py          tsplot.png\n",
            "'Copie de Bienvenue dans Colaboratory'   Sari_NN_byRock.ipynb   Untitled0.ipynb\n",
            " distplot.png                            Time_serie2.ipynb      Untitled1.ipynb\n",
            " LSTM_model.ipynb                        ts.csv                 Untitled2.ipynb\n"
          ],
          "name": "stdout"
        }
      ]
    },
    {
      "cell_type": "code",
      "metadata": {
        "id": "NZdWyGuYnJtR",
        "colab_type": "code",
        "colab": {
          "base_uri": "https://localhost:8080/",
          "height": 160
        },
        "outputId": "6531e797-5506-4816-9912-913121417107"
      },
      "source": [
        "ts=pd.read_csv(\"ts.csv\", delimiter=',')\n",
        "from datetime import datetime\n",
        "con=ts['Draw.up.date']\n",
        "ts['Draw.up.date']=pd.to_datetime(ts['Draw.up.date'])\n",
        "ts.set_index('Draw.up.date', inplace=True)\n",
        "#check datatype of index\n",
        "ts.index"
      ],
      "execution_count": 5,
      "outputs": [
        {
          "output_type": "execute_result",
          "data": {
            "text/plain": [
              "DatetimeIndex(['2010-01-02', '2010-01-11', '2010-01-18', '2010-01-21',\n",
              "               '2010-01-26', '2010-02-09', '2010-02-18', '2010-02-19',\n",
              "               '2010-02-22', '2010-03-05',\n",
              "               ...\n",
              "               '2019-07-05', '2019-07-15', '2019-07-23', '2019-07-26',\n",
              "               '2019-08-04', '2019-08-05', '2019-10-05', '2019-11-04',\n",
              "               '2019-12-03', '2019-12-06'],\n",
              "              dtype='datetime64[ns]', name='Draw.up.date', length=457, freq=None)"
            ]
          },
          "metadata": {
            "tags": []
          },
          "execution_count": 5
        }
      ]
    },
    {
      "cell_type": "code",
      "metadata": {
        "id": "oSMVFGmWnJvg",
        "colab_type": "code",
        "colab": {
          "base_uri": "https://localhost:8080/",
          "height": 363
        },
        "outputId": "ddd71b14-1a2c-4ca8-caae-8f6e8411ddd6"
      },
      "source": [
        "# weekly baseline\n",
        "ts['baseline'] = ts.daily_count.shift(1)\n",
        "\n",
        "# moving averages\n",
        "ts['MVA2'] = ts.daily_count.rolling(2).mean().shift(1)\n",
        "ts['MVA4'] = ts.daily_count.rolling(4).mean().shift(1)\n",
        "ts['MVA6'] = ts.daily_count.rolling(6).mean().shift(1)\n",
        "ts['MVA8'] = ts.daily_count.rolling(8).mean().shift(1)\n",
        "ts.head(9)\n"
      ],
      "execution_count": 6,
      "outputs": [
        {
          "output_type": "execute_result",
          "data": {
            "text/html": [
              "<div>\n",
              "<style scoped>\n",
              "    .dataframe tbody tr th:only-of-type {\n",
              "        vertical-align: middle;\n",
              "    }\n",
              "\n",
              "    .dataframe tbody tr th {\n",
              "        vertical-align: top;\n",
              "    }\n",
              "\n",
              "    .dataframe thead th {\n",
              "        text-align: right;\n",
              "    }\n",
              "</style>\n",
              "<table border=\"1\" class=\"dataframe\">\n",
              "  <thead>\n",
              "    <tr style=\"text-align: right;\">\n",
              "      <th></th>\n",
              "      <th>daily_count</th>\n",
              "      <th>baseline</th>\n",
              "      <th>MVA2</th>\n",
              "      <th>MVA4</th>\n",
              "      <th>MVA6</th>\n",
              "      <th>MVA8</th>\n",
              "    </tr>\n",
              "    <tr>\n",
              "      <th>Draw.up.date</th>\n",
              "      <th></th>\n",
              "      <th></th>\n",
              "      <th></th>\n",
              "      <th></th>\n",
              "      <th></th>\n",
              "      <th></th>\n",
              "    </tr>\n",
              "  </thead>\n",
              "  <tbody>\n",
              "    <tr>\n",
              "      <th>2010-01-02</th>\n",
              "      <td>1</td>\n",
              "      <td>NaN</td>\n",
              "      <td>NaN</td>\n",
              "      <td>NaN</td>\n",
              "      <td>NaN</td>\n",
              "      <td>NaN</td>\n",
              "    </tr>\n",
              "    <tr>\n",
              "      <th>2010-01-11</th>\n",
              "      <td>1</td>\n",
              "      <td>1.0</td>\n",
              "      <td>NaN</td>\n",
              "      <td>NaN</td>\n",
              "      <td>NaN</td>\n",
              "      <td>NaN</td>\n",
              "    </tr>\n",
              "    <tr>\n",
              "      <th>2010-01-18</th>\n",
              "      <td>1</td>\n",
              "      <td>1.0</td>\n",
              "      <td>1.0</td>\n",
              "      <td>NaN</td>\n",
              "      <td>NaN</td>\n",
              "      <td>NaN</td>\n",
              "    </tr>\n",
              "    <tr>\n",
              "      <th>2010-01-21</th>\n",
              "      <td>2</td>\n",
              "      <td>1.0</td>\n",
              "      <td>1.0</td>\n",
              "      <td>NaN</td>\n",
              "      <td>NaN</td>\n",
              "      <td>NaN</td>\n",
              "    </tr>\n",
              "    <tr>\n",
              "      <th>2010-01-26</th>\n",
              "      <td>7</td>\n",
              "      <td>2.0</td>\n",
              "      <td>1.5</td>\n",
              "      <td>1.25</td>\n",
              "      <td>NaN</td>\n",
              "      <td>NaN</td>\n",
              "    </tr>\n",
              "    <tr>\n",
              "      <th>2010-02-09</th>\n",
              "      <td>4</td>\n",
              "      <td>7.0</td>\n",
              "      <td>4.5</td>\n",
              "      <td>2.75</td>\n",
              "      <td>NaN</td>\n",
              "      <td>NaN</td>\n",
              "    </tr>\n",
              "    <tr>\n",
              "      <th>2010-02-18</th>\n",
              "      <td>1</td>\n",
              "      <td>4.0</td>\n",
              "      <td>5.5</td>\n",
              "      <td>3.50</td>\n",
              "      <td>2.666667</td>\n",
              "      <td>NaN</td>\n",
              "    </tr>\n",
              "    <tr>\n",
              "      <th>2010-02-19</th>\n",
              "      <td>1</td>\n",
              "      <td>1.0</td>\n",
              "      <td>2.5</td>\n",
              "      <td>3.50</td>\n",
              "      <td>2.666667</td>\n",
              "      <td>NaN</td>\n",
              "    </tr>\n",
              "    <tr>\n",
              "      <th>2010-02-22</th>\n",
              "      <td>2</td>\n",
              "      <td>1.0</td>\n",
              "      <td>1.0</td>\n",
              "      <td>3.25</td>\n",
              "      <td>2.666667</td>\n",
              "      <td>2.25</td>\n",
              "    </tr>\n",
              "  </tbody>\n",
              "</table>\n",
              "</div>"
            ],
            "text/plain": [
              "              daily_count  baseline  MVA2  MVA4      MVA6  MVA8\n",
              "Draw.up.date                                                   \n",
              "2010-01-02              1       NaN   NaN   NaN       NaN   NaN\n",
              "2010-01-11              1       1.0   NaN   NaN       NaN   NaN\n",
              "2010-01-18              1       1.0   1.0   NaN       NaN   NaN\n",
              "2010-01-21              2       1.0   1.0   NaN       NaN   NaN\n",
              "2010-01-26              7       2.0   1.5  1.25       NaN   NaN\n",
              "2010-02-09              4       7.0   4.5  2.75       NaN   NaN\n",
              "2010-02-18              1       4.0   5.5  3.50  2.666667   NaN\n",
              "2010-02-19              1       1.0   2.5  3.50  2.666667   NaN\n",
              "2010-02-22              2       1.0   1.0  3.25  2.666667  2.25"
            ]
          },
          "metadata": {
            "tags": []
          },
          "execution_count": 6
        }
      ]
    },
    {
      "cell_type": "code",
      "metadata": {
        "id": "u4qsOz7wnJ2k",
        "colab_type": "code",
        "colab": {
          "base_uri": "https://localhost:8080/",
          "height": 332
        },
        "outputId": "8db26d6d-0b09-4e21-cd53-b2227ee306e7"
      },
      "source": [
        "ts.drop(ts.index[:8], inplace=True)\n",
        "ts.head(8)"
      ],
      "execution_count": 7,
      "outputs": [
        {
          "output_type": "execute_result",
          "data": {
            "text/html": [
              "<div>\n",
              "<style scoped>\n",
              "    .dataframe tbody tr th:only-of-type {\n",
              "        vertical-align: middle;\n",
              "    }\n",
              "\n",
              "    .dataframe tbody tr th {\n",
              "        vertical-align: top;\n",
              "    }\n",
              "\n",
              "    .dataframe thead th {\n",
              "        text-align: right;\n",
              "    }\n",
              "</style>\n",
              "<table border=\"1\" class=\"dataframe\">\n",
              "  <thead>\n",
              "    <tr style=\"text-align: right;\">\n",
              "      <th></th>\n",
              "      <th>daily_count</th>\n",
              "      <th>baseline</th>\n",
              "      <th>MVA2</th>\n",
              "      <th>MVA4</th>\n",
              "      <th>MVA6</th>\n",
              "      <th>MVA8</th>\n",
              "    </tr>\n",
              "    <tr>\n",
              "      <th>Draw.up.date</th>\n",
              "      <th></th>\n",
              "      <th></th>\n",
              "      <th></th>\n",
              "      <th></th>\n",
              "      <th></th>\n",
              "      <th></th>\n",
              "    </tr>\n",
              "  </thead>\n",
              "  <tbody>\n",
              "    <tr>\n",
              "      <th>2010-02-22</th>\n",
              "      <td>2</td>\n",
              "      <td>1.0</td>\n",
              "      <td>1.0</td>\n",
              "      <td>3.25</td>\n",
              "      <td>2.666667</td>\n",
              "      <td>2.250</td>\n",
              "    </tr>\n",
              "    <tr>\n",
              "      <th>2010-03-05</th>\n",
              "      <td>3</td>\n",
              "      <td>2.0</td>\n",
              "      <td>1.5</td>\n",
              "      <td>2.00</td>\n",
              "      <td>2.833333</td>\n",
              "      <td>2.375</td>\n",
              "    </tr>\n",
              "    <tr>\n",
              "      <th>2010-03-11</th>\n",
              "      <td>7</td>\n",
              "      <td>3.0</td>\n",
              "      <td>2.5</td>\n",
              "      <td>1.75</td>\n",
              "      <td>3.000000</td>\n",
              "      <td>2.625</td>\n",
              "    </tr>\n",
              "    <tr>\n",
              "      <th>2010-03-16</th>\n",
              "      <td>1</td>\n",
              "      <td>7.0</td>\n",
              "      <td>5.0</td>\n",
              "      <td>3.25</td>\n",
              "      <td>3.000000</td>\n",
              "      <td>3.375</td>\n",
              "    </tr>\n",
              "    <tr>\n",
              "      <th>2010-03-19</th>\n",
              "      <td>1</td>\n",
              "      <td>1.0</td>\n",
              "      <td>4.0</td>\n",
              "      <td>3.25</td>\n",
              "      <td>2.500000</td>\n",
              "      <td>3.250</td>\n",
              "    </tr>\n",
              "    <tr>\n",
              "      <th>2010-03-22</th>\n",
              "      <td>1</td>\n",
              "      <td>1.0</td>\n",
              "      <td>1.0</td>\n",
              "      <td>3.00</td>\n",
              "      <td>2.500000</td>\n",
              "      <td>2.500</td>\n",
              "    </tr>\n",
              "    <tr>\n",
              "      <th>2010-03-26</th>\n",
              "      <td>2</td>\n",
              "      <td>1.0</td>\n",
              "      <td>1.0</td>\n",
              "      <td>2.50</td>\n",
              "      <td>2.500000</td>\n",
              "      <td>2.125</td>\n",
              "    </tr>\n",
              "    <tr>\n",
              "      <th>2010-03-29</th>\n",
              "      <td>1</td>\n",
              "      <td>2.0</td>\n",
              "      <td>1.5</td>\n",
              "      <td>1.25</td>\n",
              "      <td>2.500000</td>\n",
              "      <td>2.250</td>\n",
              "    </tr>\n",
              "  </tbody>\n",
              "</table>\n",
              "</div>"
            ],
            "text/plain": [
              "              daily_count  baseline  MVA2  MVA4      MVA6   MVA8\n",
              "Draw.up.date                                                    \n",
              "2010-02-22              2       1.0   1.0  3.25  2.666667  2.250\n",
              "2010-03-05              3       2.0   1.5  2.00  2.833333  2.375\n",
              "2010-03-11              7       3.0   2.5  1.75  3.000000  2.625\n",
              "2010-03-16              1       7.0   5.0  3.25  3.000000  3.375\n",
              "2010-03-19              1       1.0   4.0  3.25  2.500000  3.250\n",
              "2010-03-22              1       1.0   1.0  3.00  2.500000  2.500\n",
              "2010-03-26              2       1.0   1.0  2.50  2.500000  2.125\n",
              "2010-03-29              1       2.0   1.5  1.25  2.500000  2.250"
            ]
          },
          "metadata": {
            "tags": []
          },
          "execution_count": 7
        }
      ]
    },
    {
      "cell_type": "code",
      "metadata": {
        "id": "JX7DFyqbnJ41",
        "colab_type": "code",
        "colab": {
          "base_uri": "https://localhost:8080/",
          "height": 410
        },
        "outputId": "1c71446d-7321-49ef-e743-8a82d93695ac"
      },
      "source": [
        "#distribution plot\n",
        "plt.figure(figsize=(10, 6))\n",
        "sns.distplot(ts.MVA8, hist_kws={'alpha': 0.1}, kde = True, kde_kws={'alpha': 1})\n",
        "plt.ylabel('frequency')"
      ],
      "execution_count": 8,
      "outputs": [
        {
          "output_type": "execute_result",
          "data": {
            "text/plain": [
              "Text(0, 0.5, 'frequency')"
            ]
          },
          "metadata": {
            "tags": []
          },
          "execution_count": 8
        },
        {
          "output_type": "display_data",
          "data": {
            "image/png": "[encoded data removed]",
            "text/plain": [
              "<Figure size 720x432 with 1 Axes>"
            ]
          },
          "metadata": {
            "tags": []
          }
        }
      ]
    },
    {
      "cell_type": "code",
      "metadata": {
        "id": "uTCGooTZnJ7v",
        "colab_type": "code",
        "colab": {}
      },
      "source": [
        "#Define the training set\n",
        "training_set = ts['MVA8'].values\n",
        "\n",
        "training_set = training_set.reshape(-1,1)\n",
        "#feature scaling\n",
        "from sklearn.preprocessing import MinMaxScaler\n",
        "sc=MinMaxScaler(feature_range=(0,1))\n",
        "training_set_scaled=sc.fit_transform(training_set[0:380])\n",
        "test_set_scaled= sc.fit_transform(training_set[332:449])\n"
      ],
      "execution_count": 0,
      "outputs": []
    },
    {
      "cell_type": "code",
      "metadata": {
        "id": "fbFLnQRlnJ-R",
        "colab_type": "code",
        "colab": {}
      },
      "source": [
        "#Creating a data structure with 48 timesteps and 1 output\n",
        "#train\n",
        "X_train=[]\n",
        "Y_train=[]\n",
        "for i in range(48, len(training_set_scaled)):\n",
        "    X_train.append(training_set_scaled[i-48:i,0])\n",
        "    Y_train.append(training_set_scaled[i,0])\n",
        "X_train, Y_train=np.array(X_train), np.array(Y_train)\n",
        "\n",
        "#test\n",
        "X_test=[]\n",
        "Y_test=[]\n",
        "for i in range(48, len(test_set_scaled)):\n",
        "    X_test.append(test_set_scaled[i-48:i,0])\n",
        "    Y_test.append(test_set_scaled[i,0])\n",
        "    \n",
        "X_test,Y_test=np.array(X_test),np.array(Y_test)\n",
        "\n",
        "#Reshaping\n",
        "X_train=np.reshape(X_train,(X_train.shape[0],X_train.shape[1],1))\n"
      ],
      "execution_count": 0,
      "outputs": []
    },
    {
      "cell_type": "code",
      "metadata": {
        "id": "5_VdNuH0nKA2",
        "colab_type": "code",
        "colab": {
          "base_uri": "https://localhost:8080/",
          "height": 299
        },
        "outputId": "99680b62-ef6b-4cdc-c625-30f5270c6ea6"
      },
      "source": [
        "#Building the RNN\n",
        "from sklearn import datasets\n",
        "from sklearn.metrics import mean_squared_error, explained_variance_score\n",
        "import matplotlib.pyplot as plt\n",
        "from keras.models import Sequential\n",
        "from keras.layers import Dense\n",
        "from keras.layers import LSTM\n",
        "from keras.layers import Dropout\n",
        "\n",
        "#initialising the RNN\n",
        "regressor= Sequential()\n",
        "\n",
        "#adding the first LSTM layer and some dropout regularization\n",
        "regressor.add(LSTM(units=50, return_sequences = True , input_shape=(X_train.shape[1],1)))\n",
        "regressor.add(Dropout(0.2))\n",
        "\n",
        "#adding a second LSTM layer and some Dropout regularisation\n",
        "regressor.add(LSTM(units=50, return_sequences = True ))\n",
        "regressor.add(Dropout(0.2))\n",
        "\n",
        "#adding a third LSTM layer and some Dropout regularisation\n",
        "regressor.add(LSTM(units=50 ))\n",
        "regressor.add(Dropout(0.2))\n",
        "\n",
        "#adding the output layer\n",
        "regressor.add(Dense(units=1))"
      ],
      "execution_count": 11,
      "outputs": [
        {
          "output_type": "stream",
          "text": [
            "Using TensorFlow backend.\n"
          ],
          "name": "stderr"
        },
        {
          "output_type": "display_data",
          "data": {
            "text/html": [
              "<p style=\"color: red;\">\n",
              "The default version of TensorFlow in Colab will soon switch to TensorFlow 2.x.<br>\n",
              "We recommend you <a href=\"https://www.tensorflow.org/guide/migrate\" target=\"_blank\">upgrade</a> now \n",
              "or ensure your notebook will continue to use TensorFlow 1.x via the <code>%tensorflow_version 1.x</code> magic:\n",
              "<a href=\"https://colab.research.google.com/notebooks/tensorflow_version.ipynb\" target=\"_blank\">more info</a>.</p>\n"
            ],
            "text/plain": [
              "<IPython.core.display.HTML object>"
            ]
          },
          "metadata": {
            "tags": []
          }
        },
        {
          "output_type": "stream",
          "text": [
            "WARNING:tensorflow:From /usr/local/lib/python3.6/dist-packages/keras/backend/tensorflow_backend.py:66: The name tf.get_default_graph is deprecated. Please use tf.compat.v1.get_default_graph instead.\n",
            "\n",
            "WARNING:tensorflow:From /usr/local/lib/python3.6/dist-packages/keras/backend/tensorflow_backend.py:541: The name tf.placeholder is deprecated. Please use tf.compat.v1.placeholder instead.\n",
            "\n",
            "WARNING:tensorflow:From /usr/local/lib/python3.6/dist-packages/keras/backend/tensorflow_backend.py:4432: The name tf.random_uniform is deprecated. Please use tf.random.uniform instead.\n",
            "\n",
            "WARNING:tensorflow:From /usr/local/lib/python3.6/dist-packages/keras/backend/tensorflow_backend.py:148: The name tf.placeholder_with_default is deprecated. Please use tf.compat.v1.placeholder_with_default instead.\n",
            "\n",
            "WARNING:tensorflow:From /usr/local/lib/python3.6/dist-packages/keras/backend/tensorflow_backend.py:3733: calling dropout (from tensorflow.python.ops.nn_ops) with keep_prob is deprecated and will be removed in a future version.\n",
            "Instructions for updating:\n",
            "Please use `rate` instead of `keep_prob`. Rate should be set to `rate = 1 - keep_prob`.\n"
          ],
          "name": "stdout"
        }
      ]
    },
    {
      "cell_type": "code",
      "metadata": {
        "id": "I_vACggLnKDL",
        "colab_type": "code",
        "colab": {
          "base_uri": "https://localhost:8080/",
          "height": 1000
        },
        "outputId": "e4376524-3898-46fa-cd05-26e2c76421f6"
      },
      "source": [
        "#Compiling the RNN\n",
        "regressor.compile(optimizer= 'adam', loss= 'mean_squared_error')\n",
        "\n",
        "#Fitting the RNN to the training set\n",
        "history=regressor.fit(X_train, Y_train, epochs=100, batch_size=32)\n",
        "history.history\n"
      ],
      "execution_count": 12,
      "outputs": [
        {
          "output_type": "stream",
          "text": [
            "WARNING:tensorflow:From /usr/local/lib/python3.6/dist-packages/keras/optimizers.py:793: The name tf.train.Optimizer is deprecated. Please use tf.compat.v1.train.Optimizer instead.\n",
            "\n",
            "WARNING:tensorflow:From /usr/local/lib/python3.6/dist-packages/tensorflow_core/python/ops/math_grad.py:1424: where (from tensorflow.python.ops.array_ops) is deprecated and will be removed in a future version.\n",
            "Instructions for updating:\n",
            "Use tf.where in 2.0, which has the same broadcast rule as np.where\n",
            "WARNING:tensorflow:From /usr/local/lib/python3.6/dist-packages/keras/backend/tensorflow_backend.py:1033: The name tf.assign_add is deprecated. Please use tf.compat.v1.assign_add instead.\n",
            "\n",
            "WARNING:tensorflow:From /usr/local/lib/python3.6/dist-packages/keras/backend/tensorflow_backend.py:1020: The name tf.assign is deprecated. Please use tf.compat.v1.assign instead.\n",
            "\n",
            "WARNING:tensorflow:From /usr/local/lib/python3.6/dist-packages/keras/backend/tensorflow_backend.py:3005: The name tf.Session is deprecated. Please use tf.compat.v1.Session instead.\n",
            "\n",
            "Epoch 1/100\n",
            "WARNING:tensorflow:From /usr/local/lib/python3.6/dist-packages/keras/backend/tensorflow_backend.py:190: The name tf.get_default_session is deprecated. Please use tf.compat.v1.get_default_session instead.\n",
            "\n",
            "WARNING:tensorflow:From /usr/local/lib/python3.6/dist-packages/keras/backend/tensorflow_backend.py:197: The name tf.ConfigProto is deprecated. Please use tf.compat.v1.ConfigProto instead.\n",
            "\n",
            "WARNING:tensorflow:From /usr/local/lib/python3.6/dist-packages/keras/backend/tensorflow_backend.py:207: The name tf.global_variables is deprecated. Please use tf.compat.v1.global_variables instead.\n",
            "\n",
            "WARNING:tensorflow:From /usr/local/lib/python3.6/dist-packages/keras/backend/tensorflow_backend.py:216: The name tf.is_variable_initialized is deprecated. Please use tf.compat.v1.is_variable_initialized instead.\n",
            "\n",
            "WARNING:tensorflow:From /usr/local/lib/python3.6/dist-packages/keras/backend/tensorflow_backend.py:223: The name tf.variables_initializer is deprecated. Please use tf.compat.v1.variables_initializer instead.\n",
            "\n",
            "332/332 [==============================] - 4s 13ms/step - loss: 0.0603\n",
            "Epoch 2/100\n",
            "332/332 [==============================] - 1s 4ms/step - loss: 0.0353\n",
            "Epoch 3/100\n",
            "332/332 [==============================] - 1s 4ms/step - loss: 0.0345\n",
            "Epoch 4/100\n",
            "332/332 [==============================] - 1s 4ms/step - loss: 0.0340\n",
            "Epoch 5/100\n",
            "332/332 [==============================] - 1s 4ms/step - loss: 0.0319\n",
            "Epoch 6/100\n",
            "332/332 [==============================] - 1s 4ms/step - loss: 0.0322\n",
            "Epoch 7/100\n",
            "332/332 [==============================] - 1s 4ms/step - loss: 0.0297\n",
            "Epoch 8/100\n",
            "332/332 [==============================] - 1s 4ms/step - loss: 0.0279\n",
            "Epoch 9/100\n",
            "332/332 [==============================] - 1s 4ms/step - loss: 0.0290\n",
            "Epoch 10/100\n",
            "332/332 [==============================] - 1s 4ms/step - loss: 0.0290\n",
            "Epoch 11/100\n",
            "332/332 [==============================] - 1s 4ms/step - loss: 0.0263\n",
            "Epoch 12/100\n",
            "332/332 [==============================] - 1s 4ms/step - loss: 0.0250\n",
            "Epoch 13/100\n",
            "332/332 [==============================] - 1s 4ms/step - loss: 0.0236\n",
            "Epoch 14/100\n",
            "332/332 [==============================] - 1s 4ms/step - loss: 0.0213\n",
            "Epoch 15/100\n",
            "332/332 [==============================] - 1s 4ms/step - loss: 0.0200\n",
            "Epoch 16/100\n",
            "332/332 [==============================] - 1s 4ms/step - loss: 0.0192\n",
            "Epoch 17/100\n",
            "332/332 [==============================] - 1s 4ms/step - loss: 0.0184\n",
            "Epoch 18/100\n",
            "332/332 [==============================] - 1s 4ms/step - loss: 0.0160\n",
            "Epoch 19/100\n",
            "332/332 [==============================] - 1s 4ms/step - loss: 0.0151\n",
            "Epoch 20/100\n",
            "332/332 [==============================] - 1s 4ms/step - loss: 0.0147\n",
            "Epoch 21/100\n",
            "332/332 [==============================] - 1s 4ms/step - loss: 0.0154\n",
            "Epoch 22/100\n",
            "332/332 [==============================] - 1s 4ms/step - loss: 0.0143\n",
            "Epoch 23/100\n",
            "332/332 [==============================] - 1s 4ms/step - loss: 0.0158\n",
            "Epoch 24/100\n",
            "332/332 [==============================] - 1s 4ms/step - loss: 0.0147\n",
            "Epoch 25/100\n",
            "332/332 [==============================] - 1s 4ms/step - loss: 0.0123\n",
            "Epoch 26/100\n",
            "332/332 [==============================] - 1s 4ms/step - loss: 0.0115\n",
            "Epoch 27/100\n",
            "332/332 [==============================] - 1s 4ms/step - loss: 0.0134\n",
            "Epoch 28/100\n",
            "332/332 [==============================] - 1s 4ms/step - loss: 0.0125\n",
            "Epoch 29/100\n",
            "332/332 [==============================] - 1s 4ms/step - loss: 0.0117\n",
            "Epoch 30/100\n",
            "332/332 [==============================] - 1s 4ms/step - loss: 0.0114\n",
            "Epoch 31/100\n",
            "332/332 [==============================] - 1s 4ms/step - loss: 0.0116\n",
            "Epoch 32/100\n",
            "332/332 [==============================] - 1s 4ms/step - loss: 0.0128\n",
            "Epoch 33/100\n",
            "332/332 [==============================] - 1s 4ms/step - loss: 0.0117\n",
            "Epoch 34/100\n",
            "332/332 [==============================] - 1s 4ms/step - loss: 0.0120\n",
            "Epoch 35/100\n",
            "332/332 [==============================] - 1s 4ms/step - loss: 0.0114\n",
            "Epoch 36/100\n",
            "332/332 [==============================] - 1s 4ms/step - loss: 0.0110\n",
            "Epoch 37/100\n",
            "332/332 [==============================] - 1s 4ms/step - loss: 0.0109\n",
            "Epoch 38/100\n",
            "332/332 [==============================] - 1s 4ms/step - loss: 0.0111\n",
            "Epoch 39/100\n",
            "332/332 [==============================] - 1s 4ms/step - loss: 0.0106\n",
            "Epoch 40/100\n",
            "332/332 [==============================] - 1s 4ms/step - loss: 0.0101\n",
            "Epoch 41/100\n",
            "332/332 [==============================] - 1s 4ms/step - loss: 0.0108\n",
            "Epoch 42/100\n",
            "332/332 [==============================] - 1s 4ms/step - loss: 0.0112\n",
            "Epoch 43/100\n",
            "332/332 [==============================] - 1s 4ms/step - loss: 0.0105\n",
            "Epoch 44/100\n",
            "332/332 [==============================] - 1s 4ms/step - loss: 0.0103\n",
            "Epoch 45/100\n",
            "332/332 [==============================] - 1s 4ms/step - loss: 0.0106\n",
            "Epoch 46/100\n",
            "332/332 [==============================] - 1s 4ms/step - loss: 0.0103\n",
            "Epoch 47/100\n",
            "332/332 [==============================] - 1s 4ms/step - loss: 0.0101\n",
            "Epoch 48/100\n",
            "332/332 [==============================] - 1s 4ms/step - loss: 0.0097\n",
            "Epoch 49/100\n",
            "332/332 [==============================] - 1s 4ms/step - loss: 0.0102\n",
            "Epoch 50/100\n",
            "332/332 [==============================] - 1s 4ms/step - loss: 0.0098\n",
            "Epoch 51/100\n",
            "332/332 [==============================] - 1s 4ms/step - loss: 0.0102\n",
            "Epoch 52/100\n",
            "332/332 [==============================] - 1s 4ms/step - loss: 0.0099\n",
            "Epoch 53/100\n",
            "332/332 [==============================] - 1s 4ms/step - loss: 0.0108\n",
            "Epoch 54/100\n",
            "332/332 [==============================] - 1s 4ms/step - loss: 0.0104\n",
            "Epoch 55/100\n",
            "332/332 [==============================] - 1s 4ms/step - loss: 0.0091\n",
            "Epoch 56/100\n",
            "332/332 [==============================] - 1s 4ms/step - loss: 0.0104\n",
            "Epoch 57/100\n",
            "332/332 [==============================] - 1s 4ms/step - loss: 0.0093\n",
            "Epoch 58/100\n",
            "332/332 [==============================] - 1s 4ms/step - loss: 0.0094\n",
            "Epoch 59/100\n",
            "332/332 [==============================] - 1s 4ms/step - loss: 0.0111\n",
            "Epoch 60/100\n",
            "332/332 [==============================] - 1s 4ms/step - loss: 0.0090\n",
            "Epoch 61/100\n",
            "332/332 [==============================] - 1s 4ms/step - loss: 0.0086\n",
            "Epoch 62/100\n",
            "332/332 [==============================] - 1s 4ms/step - loss: 0.0085\n",
            "Epoch 63/100\n",
            "332/332 [==============================] - 1s 4ms/step - loss: 0.0099\n",
            "Epoch 64/100\n",
            "332/332 [==============================] - 1s 4ms/step - loss: 0.0103\n",
            "Epoch 65/100\n",
            "332/332 [==============================] - 1s 4ms/step - loss: 0.0090\n",
            "Epoch 66/100\n",
            "332/332 [==============================] - 1s 4ms/step - loss: 0.0082\n",
            "Epoch 67/100\n",
            "332/332 [==============================] - 1s 4ms/step - loss: 0.0083\n",
            "Epoch 68/100\n",
            "332/332 [==============================] - 1s 4ms/step - loss: 0.0086\n",
            "Epoch 69/100\n",
            "332/332 [==============================] - 1s 4ms/step - loss: 0.0087\n",
            "Epoch 70/100\n",
            "332/332 [==============================] - 1s 4ms/step - loss: 0.0088\n",
            "Epoch 71/100\n",
            "332/332 [==============================] - 1s 4ms/step - loss: 0.0090\n",
            "Epoch 72/100\n",
            "332/332 [==============================] - 1s 4ms/step - loss: 0.0080\n",
            "Epoch 73/100\n",
            "332/332 [==============================] - 1s 4ms/step - loss: 0.0099\n",
            "Epoch 74/100\n",
            "332/332 [==============================] - 1s 4ms/step - loss: 0.0098\n",
            "Epoch 75/100\n",
            "332/332 [==============================] - 1s 4ms/step - loss: 0.0089\n",
            "Epoch 76/100\n",
            "332/332 [==============================] - 1s 4ms/step - loss: 0.0089\n",
            "Epoch 77/100\n",
            "332/332 [==============================] - 1s 4ms/step - loss: 0.0083\n",
            "Epoch 78/100\n",
            "332/332 [==============================] - 1s 4ms/step - loss: 0.0085\n",
            "Epoch 79/100\n",
            "332/332 [==============================] - 1s 4ms/step - loss: 0.0087\n",
            "Epoch 80/100\n",
            "332/332 [==============================] - 1s 4ms/step - loss: 0.0087\n",
            "Epoch 81/100\n",
            "332/332 [==============================] - 1s 4ms/step - loss: 0.0087\n",
            "Epoch 82/100\n",
            "332/332 [==============================] - 1s 4ms/step - loss: 0.0088\n",
            "Epoch 83/100\n",
            "332/332 [==============================] - 1s 4ms/step - loss: 0.0087\n",
            "Epoch 84/100\n",
            "332/332 [==============================] - 1s 4ms/step - loss: 0.0086\n",
            "Epoch 85/100\n",
            "332/332 [==============================] - 1s 4ms/step - loss: 0.0082\n",
            "Epoch 86/100\n",
            "332/332 [==============================] - 1s 4ms/step - loss: 0.0075\n",
            "Epoch 87/100\n",
            "332/332 [==============================] - 1s 4ms/step - loss: 0.0079\n",
            "Epoch 88/100\n",
            "332/332 [==============================] - 1s 4ms/step - loss: 0.0086\n",
            "Epoch 89/100\n",
            "332/332 [==============================] - 1s 4ms/step - loss: 0.0086\n",
            "Epoch 90/100\n",
            "332/332 [==============================] - 1s 4ms/step - loss: 0.0097\n",
            "Epoch 91/100\n",
            "332/332 [==============================] - 1s 4ms/step - loss: 0.0085\n",
            "Epoch 92/100\n",
            "332/332 [==============================] - 1s 4ms/step - loss: 0.0083\n",
            "Epoch 93/100\n",
            "332/332 [==============================] - 1s 4ms/step - loss: 0.0090\n",
            "Epoch 94/100\n",
            "332/332 [==============================] - 1s 4ms/step - loss: 0.0080\n",
            "Epoch 95/100\n",
            "332/332 [==============================] - 1s 4ms/step - loss: 0.0085\n",
            "Epoch 96/100\n",
            "332/332 [==============================] - 1s 4ms/step - loss: 0.0087\n",
            "Epoch 97/100\n",
            "332/332 [==============================] - 1s 4ms/step - loss: 0.0086\n",
            "Epoch 98/100\n",
            "332/332 [==============================] - 1s 4ms/step - loss: 0.0079\n",
            "Epoch 99/100\n",
            "332/332 [==============================] - 1s 4ms/step - loss: 0.0086\n",
            "Epoch 100/100\n",
            "332/332 [==============================] - 1s 4ms/step - loss: 0.0085\n"
          ],
          "name": "stdout"
        },
        {
          "output_type": "execute_result",
          "data": {
            "text/plain": [
              "{'loss': [0.0602883050240666,\n",
              "  0.03528920951557447,\n",
              "  0.034508577177682555,\n",
              "  0.03395461986761495,\n",
              "  0.03194698446755668,\n",
              "  0.03222170022192849,\n",
              "  0.029748718736760587,\n",
              "  0.027904109199004,\n",
              "  0.02897621044911534,\n",
              "  0.028979185733001633,\n",
              "  0.026289352563669884,\n",
              "  0.024966079135795672,\n",
              "  0.023640983098422188,\n",
              "  0.021336752135890077,\n",
              "  0.02000126256663577,\n",
              "  0.01920628358037716,\n",
              "  0.018402576390429432,\n",
              "  0.01599612857877131,\n",
              "  0.015082251583506545,\n",
              "  0.014728521771100631,\n",
              "  0.01541551796113511,\n",
              "  0.014341383454311326,\n",
              "  0.015787889058870005,\n",
              "  0.014671973569924572,\n",
              "  0.012299818435616523,\n",
              "  0.011532268273722694,\n",
              "  0.013441208570477474,\n",
              "  0.012458212987845203,\n",
              "  0.011689355669834887,\n",
              "  0.011444278459726688,\n",
              "  0.011607374098286572,\n",
              "  0.012792457231735608,\n",
              "  0.011745043760951025,\n",
              "  0.011959918258509722,\n",
              "  0.011403154873524803,\n",
              "  0.010959924933646458,\n",
              "  0.010873191159622497,\n",
              "  0.011089528473206314,\n",
              "  0.010557833941182098,\n",
              "  0.010114262214334434,\n",
              "  0.010802803173975414,\n",
              "  0.01117830839097859,\n",
              "  0.010502749347094312,\n",
              "  0.010324136017406562,\n",
              "  0.01058260846815734,\n",
              "  0.010333654852247381,\n",
              "  0.010051057253212455,\n",
              "  0.009656536095517587,\n",
              "  0.010229828234492656,\n",
              "  0.009758585298164603,\n",
              "  0.010216074905930513,\n",
              "  0.009909893318741437,\n",
              "  0.010834575518516892,\n",
              "  0.010433121932199202,\n",
              "  0.009111170965549817,\n",
              "  0.010437500360141317,\n",
              "  0.009284438223140427,\n",
              "  0.009361966872161412,\n",
              "  0.011054702608071896,\n",
              "  0.00899965246488531,\n",
              "  0.00863238420135465,\n",
              "  0.008514976600207478,\n",
              "  0.009940447807536426,\n",
              "  0.010273535096322197,\n",
              "  0.00899184463231499,\n",
              "  0.008233553300757545,\n",
              "  0.00826956215595086,\n",
              "  0.00858691646661385,\n",
              "  0.008680428123011827,\n",
              "  0.008812715708985027,\n",
              "  0.009040929343416748,\n",
              "  0.008038565140576607,\n",
              "  0.009893662587975163,\n",
              "  0.0098348183063678,\n",
              "  0.008891486276659262,\n",
              "  0.008927594595420432,\n",
              "  0.008348008460668197,\n",
              "  0.008546593848683209,\n",
              "  0.008724714814494532,\n",
              "  0.008746621445808784,\n",
              "  0.008689732593764743,\n",
              "  0.008778001033106303,\n",
              "  0.008669320263911083,\n",
              "  0.008566386503986565,\n",
              "  0.00820043403094253,\n",
              "  0.007508215126974216,\n",
              "  0.007869335991072368,\n",
              "  0.008556831156812519,\n",
              "  0.008647685915411237,\n",
              "  0.00970133352486125,\n",
              "  0.008498616247292024,\n",
              "  0.008331074536475072,\n",
              "  0.008965768394094095,\n",
              "  0.007961917449776307,\n",
              "  0.00846879634478814,\n",
              "  0.00865575269492994,\n",
              "  0.00862805113331022,\n",
              "  0.007885678160756108,\n",
              "  0.008608163800090551,\n",
              "  0.008547950356480587]}"
            ]
          },
          "metadata": {
            "tags": []
          },
          "execution_count": 12
        }
      ]
    },
    {
      "cell_type": "code",
      "metadata": {
        "id": "eSZ74gwPnKGq",
        "colab_type": "code",
        "colab": {}
      },
      "source": [
        "#prediction\n",
        "X_test=np.array(X_test)\n",
        "X_test_shape=np.reshape(X_test,(X_test.shape[0],X_test.shape[1],1))\n",
        "\n",
        "predicted_birth=regressor.predict(X_test_shape)\n",
        "predicted_birth=sc.inverse_transform(predicted_birth)\n",
        "Y_test=sc.inverse_transform(np.array(Y_test).reshape(-1,1))\n"
      ],
      "execution_count": 0,
      "outputs": []
    },
    {
      "cell_type": "code",
      "metadata": {
        "id": "WRrOl0oYnKIf",
        "colab_type": "code",
        "colab": {
          "base_uri": "https://localhost:8080/",
          "height": 353
        },
        "outputId": "f7b3ccf4-2142-439c-f82c-d677af075339"
      },
      "source": [
        "#epochs plot\n",
        "plt.figure(figsize=(10, 5))\n",
        "plt.plot(history.history['loss'])\n",
        "plt.title('Model loss')\n",
        "plt.ylabel('Mean Squared Error')\n",
        "plt.xlabel('Epoch')\n",
        "#plt.savefig('lstm2plot.png')\n",
        "plt.show()\n"
      ],
      "execution_count": 14,
      "outputs": [
        {
          "output_type": "display_data",
          "data": {
            "image/png": "[encoded data removed]",
            "text/plain": [
              "<Figure size 720x360 with 1 Axes>"
            ]
          },
          "metadata": {
            "tags": []
          }
        }
      ]
    },
    {
      "cell_type": "code",
      "metadata": {
        "id": "7yEilaszoweZ",
        "colab_type": "code",
        "colab": {
          "base_uri": "https://localhost:8080/",
          "height": 391
        },
        "outputId": "3779dbca-bab1-428c-c51e-64ae893b6f8e"
      },
      "source": [
        "#vizualising result\n",
        "errors = abs(predicted_birth - Y_test)\n",
        "MAE=round(np.mean(errors), 2)\n",
        "rmse =np.sqrt(mean_squared_error(Y_test,predicted_birth))\n",
        "mape = 100 * (errors / Y_test)\n",
        "MAPE=round(np.mean(mape), 2)\n",
        "print('MAE on the data: %.4f' %MAE)\n",
        "print('RMSE on the data: %.4f' %rmse)\n",
        "print('MAPE on the data: %.4f' %MAPE)\n",
        "plt.figure(figsize=(10, 5))\n",
        "plt.plot(training_set,'o-',color='green',label='data')\n",
        "plt.plot(range(0,380),training_set[0:380], color='red', label='Training data')\n",
        "plt.plot(range(380,449) ,predicted_birth, color='blue', label='Predicted data')\n",
        "plt.xlabel('Draw.up.date.index')\n",
        "plt.ylabel('MVA8')\n",
        "plt.legend()\n",
        "#plt.savefig('lstm3plot.png')\n",
        "plt.show()"
      ],
      "execution_count": 15,
      "outputs": [
        {
          "output_type": "stream",
          "text": [
            "MAE on the data: 0.4800\n",
            "RMSE on the data: 0.6140\n",
            "MAPE on the data: 12.1800\n"
          ],
          "name": "stdout"
        },
        {
          "output_type": "display_data",
          "data": {
            "image/png": "[encoded data removed]",
            "text/plain": [
              "<Figure size 720x360 with 1 Axes>"
            ]
          },
          "metadata": {
            "tags": []
          }
        }
      ]
    },
    {
      "cell_type": "code",
      "metadata": {
        "id": "Rc-_tjFToxFQ",
        "colab_type": "code",
        "colab": {
          "base_uri": "https://localhost:8080/",
          "height": 337
        },
        "outputId": "e41116d4-f9e0-40a6-d86b-58343ae99042"
      },
      "source": [
        "#plot of test and predict\n",
        "plt.figure(figsize=(10, 5))\n",
        "plt.plot(range(380,449),Y_test, color='red', label='Test data')\n",
        "plt.plot(range(380,449) ,predicted_birth, color='blue', label='Predicted data')\n",
        "plt.xlabel('Draw.up.date.index')\n",
        "plt.ylabel('MVA8')\n",
        "plt.legend()\n",
        "plt.savefig('lstm4plot.png')\n",
        "plt.show()\n"
      ],
      "execution_count": 16,
      "outputs": [
        {
          "output_type": "display_data",
          "data": {
            "image/png": "[encoded data removed]",
            "text/plain": [
              "<Figure size 720x360 with 1 Axes>"
            ]
          },
          "metadata": {
            "tags": []
          }
        }
      ]
    },
    {
      "cell_type": "code",
      "metadata": {
        "id": "4pW1gOskoxUU",
        "colab_type": "code",
        "colab": {}
      },
      "source": [
        ""
      ],
      "execution_count": 0,
      "outputs": []
    },
    {
      "cell_type": "code",
      "metadata": {
        "id": "JyfvjF81nKLt",
        "colab_type": "code",
        "colab": {}
      },
      "source": [
        ""
      ],
      "execution_count": 0,
      "outputs": []
    }
  ]
}